{
 "cells": [
  {
   "cell_type": "markdown",
   "id": "2e2420f2",
   "metadata": {},
   "source": [
    "**Unused code"
   ]
  },
  {
   "cell_type": "code",
   "execution_count": null,
   "id": "9f9658e9",
   "metadata": {},
   "outputs": [],
   "source": [
    "def value_check():\n",
    "    \n",
    "    list = []\n",
    "    \n",
    "    for i in player.player_cards:\n",
    "        list.append(i.value)\n",
    "        \n",
    "    return sum(list)"
   ]
  },
  {
   "cell_type": "code",
   "execution_count": null,
   "id": "17f39182",
   "metadata": {},
   "outputs": [],
   "source": [
    "def dealer_value_check():\n",
    "    \n",
    "    list = []\n",
    "    \n",
    "    for i in house.player_cards:\n",
    "        list.append(i.value)\n",
    "        \n",
    "    return sum(list)"
   ]
  },
  {
   "cell_type": "markdown",
   "id": "5ed38d08",
   "metadata": {},
   "source": [
    "# Game Play\n",
    "To play a hand of Blackjack the following steps must be followed:\n",
    "1. Create a deck of 52 cards\n",
    "2. Shuffle the deck\n",
    "3. Ask the Player for their bet\n",
    "4. Make sure that the Player's bet does not exceed their available chips\n",
    "5. Deal two cards to the Dealer and two cards to the Player\n",
    "6. Show only one of the Dealer's cards, the other remains hidden\n",
    "7. Show both of the Player's cards\n",
    "8. Ask the Player if they wish to Hit, and take another card\n",
    "9. If the Player's hand doesn't Bust (go over 21), ask if they'd like to Hit again.\n",
    "10. If a Player Stands, play the Dealer's hand. The dealer will always Hit until the Dealer's value meets or exceeds 17\n",
    "11. Determine the winner and adjust the Player's chips accordingly\n",
    "12. Ask the Player if they'd like to play again"
   ]
  },
  {
   "cell_type": "markdown",
   "id": "147730de",
   "metadata": {},
   "source": [
    "## Playing Cards\n",
    "A standard deck of playing cards has four suits (Hearts, Diamonds, Spades and Clubs) and thirteen ranks (2 through 10, then the face cards Jack, Queen, King and Ace) for a total of 52 cards per deck. Jacks, Queens and Kings all have a rank of 10. Aces have a rank of either 11 or 1 as needed to reach 21 without busting. As a starting point in your program, you may want to assign variables to store a list of suits, ranks, and then use a dictionary to map ranks to values."
   ]
  },
  {
   "cell_type": "markdown",
   "id": "7b4c4e12",
   "metadata": {},
   "source": [
    "## The Game\n",
    "### Imports and Global Variables\n",
    "** Step 1: Import the random module. This will be used to shuffle the deck prior to dealing. Then, declare variables to store suits, ranks and values. You can develop your own system, or copy ours below. Finally, declare a Boolean value to be used to control <code>while</code> loops. This is a common practice used to control the flow of the game.**"
   ]
  },
  {
   "cell_type": "code",
   "execution_count": 1,
   "id": "98809e89",
   "metadata": {},
   "outputs": [],
   "source": [
    "import random\n",
    "\n",
    "suits = (\"Hearts\",\"Diamonds\",\"Spades\",\"Clubs\")\n",
    "ranks = (\"Two\", \"Three\", \"Four\", \"Five\", \"Six\", \"Seven\", \"Eight\", \"Nine\", \"Ten\", \"Jack\", \"Queen\", \"King\", \"Ace\")\n",
    "values = {\"Two\": 2,\"Three\": 3,\"Four\": 4,\"Five\": 5,\"Six\": 6,\"Seven\": 7,\"Eight\": 8,\"Nine\": 9,\n",
    "          \"Ten\": 10,\"Jack\": 10,\"Queen\": 10,\"King\": 10,\"Ace\": 11}"
   ]
  },
  {
   "cell_type": "code",
   "execution_count": 2,
   "id": "7d36be43",
   "metadata": {},
   "outputs": [],
   "source": [
    "class Card:\n",
    "    \n",
    "    def __init__(self,rank,suit):\n",
    "        \n",
    "        self.rank = rank\n",
    "        self.suit = suit\n",
    "        self.value = values[rank]\n",
    "        \n",
    "    def __str__(self):\n",
    "        return f'{self.rank} of {self.suit}'"
   ]
  },
  {
   "cell_type": "code",
   "execution_count": 3,
   "id": "95ce9292",
   "metadata": {},
   "outputs": [],
   "source": [
    "class Deck:\n",
    "    \n",
    "    def __init__(self):\n",
    "        \n",
    "        self.all_cards = []\n",
    "        \n",
    "        for suit in suits:\n",
    "            for rank in ranks:\n",
    "                created_card = Card(rank,suit)\n",
    "                self.all_cards.append(created_card)\n",
    "        \n",
    "    def shuffle(self):\n",
    "        \n",
    "        random.shuffle(self.all_cards)\n",
    "        \n",
    "    def deal_one(self):\n",
    "        return self.all_cards.pop(0)"
   ]
  },
  {
   "cell_type": "code",
   "execution_count": 4,
   "id": "6094d3e2",
   "metadata": {},
   "outputs": [],
   "source": [
    "class Player:\n",
    "    \n",
    "    def __init__(self,name):\n",
    "        \n",
    "        self.name = name\n",
    "        self.value = 0\n",
    "        self.aces = 0\n",
    "        self.player_cards = []\n",
    "    \n",
    "    def add_cards(self,new_cards):\n",
    "        self.player_cards.append(new_cards)\n",
    "        self.value += values[new_cards.rank]\n",
    "        if new_cards.rank == \"Ace\":\n",
    "            self.aces += 1\n",
    "        \n",
    "    def adjust_for_ace(self):\n",
    "        while self.value > 21 and self.aces:\n",
    "            self.value -= 10\n",
    "            self.aces -= 1\n",
    "            #Changes Ace to value 1 and acts like you no longer have an ace\n",
    "            #If you get another Ace, the counter ticks to 1 and this check performed again\n",
    "            #The value will be > 21 again, Ace value changed to 1 and treated like not an Ace anymore\n",
    "    def print_value(self):\n",
    "        print(f'{self.name} value is: {self.value}')\n",
    "        \n",
    "    def __str__(self):\n",
    "        return (f'{self.name} has {len(self.player_cards)} cards')      "
   ]
  },
  {
   "cell_type": "code",
   "execution_count": 6,
   "id": "d47024ca",
   "metadata": {},
   "outputs": [],
   "source": [
    "class Bank:\n",
    "    \n",
    "    def __init__(self,balance=0):\n",
    "        self.balance = balance\n",
    "        \n",
    "    def bet(self,bet_amount):\n",
    "        print (f'You have bet {bet_amount}')\n",
    "        self.balance = self.balance - bet_amount\n",
    "\n",
    "    def win_bet(self,bet_amount):\n",
    "        self.balance = self.balance + bet_amount*2\n",
    "    \n",
    "    def bet_input(self):\n",
    "\n",
    "        check = True\n",
    "\n",
    "        while check:\n",
    "\n",
    "            bet_amount = input(\"How much do you want to bet? \")\n",
    "\n",
    "            if not bet_amount.isdigit():\n",
    "                print(\"Please select an integer\")\n",
    "                continue\n",
    "            elif int(bet_amount) > self.balance:\n",
    "                print(\"You do not have enough funds\")\n",
    "                print(f'Your balance is {self.balance}')\n",
    "                continue\n",
    "            else:\n",
    "                check = False\n",
    "\n",
    "        return int(bet_amount)\n",
    "    \n",
    "    def __str__(self):\n",
    "        \n",
    "        return f'Your balance is {self.balance}'"
   ]
  },
  {
   "cell_type": "code",
   "execution_count": null,
   "id": "0ab1b930",
   "metadata": {},
   "outputs": [],
   "source": [
    "chips = 1000\n",
    "balance = Bank(chips)\n",
    "print(balance)"
   ]
  },
  {
   "cell_type": "code",
   "execution_count": null,
   "id": "c4a54614",
   "metadata": {},
   "outputs": [],
   "source": [
    "bet_amount = balance.bet_input()\n",
    "print(bet_amount)\n",
    "balance.bet(bet_amount)\n",
    "print(balance)"
   ]
  },
  {
   "cell_type": "code",
   "execution_count": 7,
   "id": "4e6dc869",
   "metadata": {},
   "outputs": [],
   "source": [
    "def hit():\n",
    "    \n",
    "    hit_check = []\n",
    "    \n",
    "    while hit_check not in [\"H\",\"S\"]:\n",
    "        \n",
    "        hit_check = input(\"Player do you want to Hit or Stand? Select H for hit or S for Stand \").upper()\n",
    "                          \n",
    "        if hit_check not in [\"H\",\"S\"]:\n",
    "            print(\"Please select either H or S\")\n",
    "            continue\n",
    "        elif hit_check in [\"H\"]:            \n",
    "            Hit = True\n",
    "        else:\n",
    "            Hit = False\n",
    "    \n",
    "    return Hit"
   ]
  },
  {
   "cell_type": "code",
   "execution_count": 8,
   "id": "3f7925bf",
   "metadata": {},
   "outputs": [],
   "source": [
    "def twenty_one_check(value):\n",
    "    if value >= 21:\n",
    "        if value == 21:\n",
    "            print(\"Player Wins!\")\n",
    "            return True\n",
    "        else:\n",
    "            print(\"BUST!\")\n",
    "            return True"
   ]
  },
  {
   "cell_type": "code",
   "execution_count": 9,
   "id": "6d627541",
   "metadata": {},
   "outputs": [],
   "source": [
    "def win_check():\n",
    "    if player_value == 21:\n",
    "        balance.win_bet(player_bet)\n",
    "        print(balance)\n",
    "    elif player_value > 21:\n",
    "        print(balance)\n",
    "    elif dealer_value > 21:\n",
    "        balance.win_bet(player_bet)\n",
    "        print(balance)\n",
    "    elif player_value > dealer_value:\n",
    "        balance.win_bet(player_bet)\n",
    "        print(balance)\n",
    "    else:\n",
    "        print(balance)"
   ]
  },
  {
   "cell_type": "code",
   "execution_count": 20,
   "id": "ffef2c13",
   "metadata": {},
   "outputs": [],
   "source": [
    "def play_again():\n",
    "    \n",
    "    play_again = []\n",
    "    \n",
    "    while play_again not in [\"Y\",\"N\"]:\n",
    "        \n",
    "        play_again = input(\"Do you want to play again? Select Y or N: \").upper()\n",
    "\n",
    "        if play_again not in [\"Y\",\"N\"]:\n",
    "            print(\"Please select either Y or N\")\n",
    "            continue\n",
    "        elif play_again in [\"Y\"]:            \n",
    "            game_on = True\n",
    "        else:\n",
    "            print(\"Thank you for playing!\")\n",
    "            game_on = False\n",
    "    \n",
    "    return game_on"
   ]
  },
  {
   "cell_type": "code",
   "execution_count": null,
   "id": "6c8fb2fe",
   "metadata": {},
   "outputs": [],
   "source": [
    "#create deck of 52 cards - deck function\n",
    "#shuffle deck - shuffle function\n",
    "#ask player for their bet - set balance equal to 1000, run bank function using bet function and set balance\n",
    "#deal two cards to the Dealer and Player - run for loop function for player and houes to deal_one\n",
    "#show one of the dealers cards - print(House.all_cards[0])\n",
    "#show the players two cards - print(Player.all_cards[0] and the current value of those cars\n",
    "#Ask the player if they want to hit - input asking for Hit or Stand. Function deal_one if hit, else ...\n",
    "#Check if sum value greater than 21, if not then ask hit function above\n",
    "#When player eventually does not Hit, else function for Stand option\n",
    "#Show dealers 2nd card, then deal_one card to dealer and check sum. If sum > Player value win, if >21 lose, else continue\n",
    "    #Winner decided in step above with either bust or win against player\n",
    "#win_bet function if player wins, else print(\"You lose!\"). After both, ask if play again, if yes, continue, etc"
   ]
  },
  {
   "cell_type": "code",
   "execution_count": 21,
   "id": "52dcb70a",
   "metadata": {},
   "outputs": [],
   "source": [
    "import random\n",
    "from IPython.display import clear_output\n",
    "    \n",
    "game_on = True\n",
    "chips = 1000\n",
    "balance = Bank(chips)"
   ]
  },
  {
   "cell_type": "code",
   "execution_count": 22,
   "id": "f0db1305",
   "metadata": {},
   "outputs": [],
   "source": [
    "while game_on:\n",
    "    \n",
    "    player = Player('player')\n",
    "    house = Player('house')\n",
    "\n",
    "    new_deck = Deck()\n",
    "    new_deck.shuffle()\n",
    "\n",
    "    for x in range(2):\n",
    "        player.add_cards(new_deck.deal_one())\n",
    "        house.add_cards(new_deck.deal_one())\n",
    "    \n",
    "    #Player makes bet\n",
    "    player_bet = balance.bet_input()\n",
    "    balance.bet(player_bet)\n",
    "    print(balance)\n",
    "    \n",
    "    #show cards\n",
    "    player.adjust_for_ace()\n",
    "    print(f'Dealer card: {str(house.player_cards[0])}')\n",
    "    print(f'Player cards: {[str(i) for i in player.player_cards]}') # could have used for loop to print cards in a list. Solutions uses asterisk method\n",
    "    player.print_value()\n",
    "    player_value = player.value\n",
    "      \n",
    "    # Player turn to hit including checks for win or bust after each hit\n",
    "    player_turn = True\n",
    "    while player_turn:\n",
    "        if twenty_one_check(player_value):\n",
    "            player_turn = False\n",
    "        else:\n",
    "            Hit = hit()\n",
    "            if Hit == True:\n",
    "                player.add_cards(new_deck.deal_one())\n",
    "                player.adjust_for_ace()\n",
    "                player_value = player.value\n",
    "                print(f'Dealer card: {house.player_cards[0]}')\n",
    "                print(f'Player cards: {[str(i) for i in player.player_cards]}')\n",
    "                print(f'Player current value is: {player_value}')\n",
    "            else:\n",
    "                break\n",
    "    \n",
    "    # Dealers turn\n",
    "    if player_turn == False:\n",
    "        dealer_turn = False\n",
    "    else:\n",
    "        dealer_turn = True\n",
    "    \n",
    "    while dealer_turn:\n",
    "        house.adjust_for_ace()\n",
    "        print(f'Dealer cards: {[str(i) for i in house.player_cards]}')\n",
    "        dealer_value = house.value\n",
    "        house.print_value()\n",
    "        if dealer_value > player_value:\n",
    "            if dealer_value > 21:\n",
    "                print(\"BUST! Player wins!\")\n",
    "                dealer_turn = False\n",
    "            else:\n",
    "                print(\"Player Loses!\")\n",
    "                dealer_turn = False\n",
    "        else:\n",
    "            house.add_cards(new_deck.deal_one())\n",
    "            house.adjust_for_ace()\n",
    "            \n",
    "    win_check()\n",
    "    game_on = play_again()\n",
    "    clear_output()\n",
    "# Note that my game has the player winning if they get 21 which also means they win if dealer would have had 21\n",
    "# The solutions have it as a draw in that case"
   ]
  },
  {
   "cell_type": "code",
   "execution_count": 13,
   "id": "9e1ece69",
   "metadata": {},
   "outputs": [
    {
     "name": "stdout",
     "output_type": "stream",
     "text": [
      "Your balance is 2100\n"
     ]
    }
   ],
   "source": [
    "print(balance)"
   ]
  },
  {
   "cell_type": "code",
   "execution_count": 15,
   "id": "044af107",
   "metadata": {},
   "outputs": [
    {
     "name": "stdout",
     "output_type": "stream",
     "text": [
      "Ace of Clubs\n",
      "Three of Spades\n",
      "Ten of Diamonds\n",
      "Queen of Hearts\n"
     ]
    }
   ],
   "source": [
    "for card in house.player_cards:\n",
    "    print(card)"
   ]
  },
  {
   "cell_type": "code",
   "execution_count": null,
   "id": "3a5b920c",
   "metadata": {},
   "outputs": [],
   "source": []
  }
 ],
 "metadata": {
  "kernelspec": {
   "display_name": "Python 3 (ipykernel)",
   "language": "python",
   "name": "python3"
  },
  "language_info": {
   "codemirror_mode": {
    "name": "ipython",
    "version": 3
   },
   "file_extension": ".py",
   "mimetype": "text/x-python",
   "name": "python",
   "nbconvert_exporter": "python",
   "pygments_lexer": "ipython3",
   "version": "3.9.12"
  }
 },
 "nbformat": 4,
 "nbformat_minor": 5
}
